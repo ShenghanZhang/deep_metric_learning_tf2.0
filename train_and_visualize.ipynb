{
 "cells": [
  {
   "cell_type": "code",
   "execution_count": 3,
   "metadata": {},
   "outputs": [
    {
     "name": "stdout",
     "output_type": "stream",
     "text": [
      "TensorFlow  2.0.0-beta0\n"
     ]
    }
   ],
   "source": [
    "import tensorflow as tf\n",
    "import tensorflow_datasets as tfds\n",
    "import matplotlib.pyplot as plt\n",
    "from tqdm import tqdm_notebook\n",
    "import numpy as np\n",
    "import os\n",
    "print('TensorFlow ', tf.__version__)"
   ]
  },
  {
   "cell_type": "code",
   "execution_count": 4,
   "metadata": {},
   "outputs": [],
   "source": [
    "physical_devices = tf.config.experimental.list_physical_devices('GPU')\n",
    "tf.config.experimental.set_memory_growth(physical_devices[0], True)\n",
    "tf.config.experimental.set_memory_growth(physical_devices[1], True)\n",
    "os.environ['TF_XLA_FLAGS'] = '--tf_xla_cpu_global_jit'"
   ]
  },
  {
   "cell_type": "code",
   "execution_count": 5,
   "metadata": {},
   "outputs": [],
   "source": [
    "batch_size = 256\n",
    "\n",
    "def get_distances(embeddings):\n",
    "    \"\"\"embeddings : shape == [batch_size, EMBEDDING_DIM]\n",
    "       return distances : shape == [batch_size, batch_size]\n",
    "    \"\"\"\n",
    "\n",
    "    dot = tf.matmul(embeddings, embeddings, transpose_b=True)\n",
    "    squared_norms = tf.expand_dims(tf.linalg.diag_part(dot), 0)\n",
    "    squared_norms_t = tf.transpose(squared_norms)\n",
    "    squared_distances = squared_norms + squared_norms_t - 2 * dot\n",
    "\n",
    "    zero_mask = tf.equal(squared_distances, 0)\n",
    "    squared_distances = squared_distances + tf.cast(zero_mask, dtype=tf.float32)*1e-14\n",
    "    distances = tf.sqrt(squared_distances)\n",
    "    distances = distances * (1 - tf.cast(zero_mask, dtype=tf.float32))\n",
    "    return distances\n",
    "\n",
    "def get_negative_mask(labels):\n",
    "    \"\"\"label(a) != label(b)\"\"\"\n",
    "    labels = tf.expand_dims(labels, axis=1)\n",
    "    labels_t = tf.transpose(labels)\n",
    "    mask = tf.logical_not(tf.equal(labels, labels_t))\n",
    "    return mask\n",
    "\n",
    "def get_positive_mask(labels):\n",
    "    \"\"\"label(a) == label(b) && a != b \"\"\"\n",
    "    batch_shape = tf.shape(labels)[0]\n",
    "    mask_1 = tf.logical_not(get_negative_mask(labels))\n",
    "    mask_2 = tf.logical_not(tf.eye(batch_shape, dtype=tf.bool))\n",
    "    return tf.logical_and(mask_1, mask_2)\n",
    "\n",
    "def triplet_loss(labels, embeddings, margin=0.5):\n",
    "    \"\"\"embeddings : shape == [batch_size, EMBEDDING_DIM]\n",
    "       labels : shape == [batch_size]\n",
    "    \"\"\"\n",
    "    distances = get_distances(embeddings)\n",
    "    positive_mask = get_positive_mask(labels)\n",
    "    negative_mask = get_negative_mask(labels)\n",
    "\n",
    "    ## hard positive samples\n",
    "    positive_distances = tf.cast(positive_mask, dtype=tf.float32) * distances\n",
    "    hard_positive_distances = tf.expand_dims(tf.reduce_max(positive_distances, axis=1), axis=1)\n",
    "\n",
    "    ## hard negative samples\n",
    "    max_distance = tf.expand_dims(tf.reduce_max(distances, axis=1), axis=1)\n",
    "    hard_negative_distaces = tf.expand_dims(tf.reduce_min(distances + (1 - tf.cast(negative_mask, dtype=tf.float32)) * max_distance, axis=1), axis=1)\n",
    "    \n",
    "    ## final loss\n",
    "    loss = hard_positive_distances - hard_negative_distaces + margin\n",
    "    loss = tf.maximum(loss, 0)\n",
    "    return tf.reduce_mean(loss, axis=0)"
   ]
  },
  {
   "cell_type": "code",
   "execution_count": 6,
   "metadata": {},
   "outputs": [
    {
     "name": "stdout",
     "output_type": "stream",
     "text": [
      "<PrefetchDataset shapes: ((None, 28, 28, 1), (None,)), types: (tf.float32, tf.int64)>\n"
     ]
    }
   ],
   "source": [
    "train_dataset, test_dataset = tfds.load('mnist', split=['train', 'test'])\n",
    "\n",
    "def preprocess_data(sample):\n",
    "    image = tf.cast(sample['image'], dtype=tf.float32) / 255.\n",
    "    label = sample['label']\n",
    "    return image, label\n",
    "\n",
    "train_dataset = train_dataset.map(preprocess_data, num_parallel_calls=tf.data.experimental.AUTOTUNE)\n",
    "train_dataset = train_dataset.shuffle(4096)\n",
    "train_dataset = train_dataset.batch(batch_size)\n",
    "train_dataset = train_dataset.prefetch(buffer_size=tf.data.experimental.AUTOTUNE)\n",
    "\n",
    "test_dataset = test_dataset.map(preprocess_data, num_parallel_calls=tf.data.experimental.AUTOTUNE)\n",
    "test_dataset = test_dataset.shuffle(4096)\n",
    "test_dataset = test_dataset.batch(batch_size)\n",
    "test_dataset = test_dataset.prefetch(buffer_size=tf.data.experimental.AUTOTUNE)\n",
    "\n",
    "print(train_dataset)"
   ]
  },
  {
   "cell_type": "code",
   "execution_count": 7,
   "metadata": {},
   "outputs": [],
   "source": [
    "def conv_block(tensor, nfilters, kernel_size=3, strides=1):\n",
    "    y = tf.keras.layers.Conv2D(filters=nfilters, \n",
    "                               kernel_size=(3, 3), \n",
    "                               padding='valid', \n",
    "                               strides=strides, \n",
    "                               use_bias=False, \n",
    "                               kernel_initializer='he_normal', \n",
    "                               kernel_regularizer=tf.keras.regularizers.l2(l=1e-4))(tensor)\n",
    "    y = tf.keras.layers.BatchNormalization()(y)\n",
    "    y = tf.keras.layers.ReLU()(y)\n",
    "    return y\n",
    "\n",
    "def model_fn():\n",
    "    input_layer = tf.keras.layers.Input(shape=(28, 28, 1))\n",
    "    x = conv_block(input_layer, nfilters=16, kernel_size=3, strides=1)\n",
    "    x = conv_block(x, nfilters=32, kernel_size=3, strides=1)\n",
    "    x = conv_block(x, nfilters=64, kernel_size=3, strides=2)\n",
    "    x = conv_block(x, nfilters=64, kernel_size=3, strides=1)\n",
    "    x = conv_block(x, nfilters=64, kernel_size=3, strides=1)\n",
    "    output_layer = tf.keras.layers.GlobalAveragePooling2D()(x)\n",
    "    return tf.keras.Model(inputs=[input_layer], outputs=[output_layer], name='embedding_model')"
   ]
  },
  {
   "cell_type": "code",
   "execution_count": 8,
   "metadata": {},
   "outputs": [
    {
     "name": "stdout",
     "output_type": "stream",
     "text": [
      "Model: \"embedding_model\"\n",
      "_________________________________________________________________\n",
      "Layer (type)                 Output Shape              Param #   \n",
      "=================================================================\n",
      "input_1 (InputLayer)         [(None, 28, 28, 1)]       0         \n",
      "_________________________________________________________________\n",
      "conv2d (Conv2D)              (None, 26, 26, 16)        144       \n",
      "_________________________________________________________________\n",
      "batch_normalization (BatchNo (None, 26, 26, 16)        64        \n",
      "_________________________________________________________________\n",
      "re_lu (ReLU)                 (None, 26, 26, 16)        0         \n",
      "_________________________________________________________________\n",
      "conv2d_1 (Conv2D)            (None, 24, 24, 32)        4608      \n",
      "_________________________________________________________________\n",
      "batch_normalization_1 (Batch (None, 24, 24, 32)        128       \n",
      "_________________________________________________________________\n",
      "re_lu_1 (ReLU)               (None, 24, 24, 32)        0         \n",
      "_________________________________________________________________\n",
      "conv2d_2 (Conv2D)            (None, 11, 11, 64)        18432     \n",
      "_________________________________________________________________\n",
      "batch_normalization_2 (Batch (None, 11, 11, 64)        256       \n",
      "_________________________________________________________________\n",
      "re_lu_2 (ReLU)               (None, 11, 11, 64)        0         \n",
      "_________________________________________________________________\n",
      "conv2d_3 (Conv2D)            (None, 9, 9, 64)          36864     \n",
      "_________________________________________________________________\n",
      "batch_normalization_3 (Batch (None, 9, 9, 64)          256       \n",
      "_________________________________________________________________\n",
      "re_lu_3 (ReLU)               (None, 9, 9, 64)          0         \n",
      "_________________________________________________________________\n",
      "conv2d_4 (Conv2D)            (None, 7, 7, 64)          36864     \n",
      "_________________________________________________________________\n",
      "batch_normalization_4 (Batch (None, 7, 7, 64)          256       \n",
      "_________________________________________________________________\n",
      "re_lu_4 (ReLU)               (None, 7, 7, 64)          0         \n",
      "_________________________________________________________________\n",
      "global_average_pooling2d (Gl (None, 64)                0         \n",
      "=================================================================\n",
      "Total params: 97,872\n",
      "Trainable params: 97,392\n",
      "Non-trainable params: 480\n",
      "_________________________________________________________________\n",
      "Epoch 1/50\n"
     ]
    },
    {
     "name": "stderr",
     "output_type": "stream",
     "text": [
      "WARNING: Logging before flag parsing goes to stderr.\n",
      "W0704 17:57:49.968950 139840408057664 deprecation.py:323] From /home/rtx/tensorflow_nightly/lib/python3.6/site-packages/tensorflow/python/ops/math_grad.py:1220: add_dispatch_support.<locals>.wrapper (from tensorflow.python.ops.array_ops) is deprecated and will be removed in a future version.\n",
      "Instructions for updating:\n",
      "Use tf.where in 2.0, which has the same broadcast rule as np.where\n"
     ]
    },
    {
     "name": "stdout",
     "output_type": "stream",
     "text": [
      "Loss at end of 1 epochs = 0.6952\n",
      "Validation loss at end of 1 epochs = 0.5978\n",
      "\n",
      "Epoch 2/50\n",
      "Loss at end of 2 epochs = 0.5788\n",
      "Validation loss at end of 2 epochs = 0.5513\n",
      "\n",
      "Epoch 3/50\n",
      "Loss at end of 3 epochs = 0.5418\n",
      "Validation loss at end of 3 epochs = 0.5233\n",
      "\n",
      "Epoch 4/50\n",
      "Loss at end of 4 epochs = 0.5179\n",
      "Validation loss at end of 4 epochs = 0.4985\n",
      "\n",
      "Epoch 5/50\n",
      "Loss at end of 5 epochs = 0.4956\n",
      "Validation loss at end of 5 epochs = 0.4807\n",
      "\n",
      "Epoch 6/50\n",
      "Loss at end of 6 epochs = 0.4679\n",
      "Validation loss at end of 6 epochs = 0.4463\n",
      "\n",
      "Epoch 7/50\n",
      "Loss at end of 7 epochs = 0.4220\n",
      "Validation loss at end of 7 epochs = 0.4054\n",
      "\n",
      "Epoch 8/50\n",
      "Loss at end of 8 epochs = 0.3814\n",
      "Validation loss at end of 8 epochs = 0.3561\n",
      "\n",
      "Epoch 9/50\n",
      "Loss at end of 9 epochs = 0.3269\n",
      "Validation loss at end of 9 epochs = 0.3229\n",
      "\n",
      "Epoch 10/50\n",
      "Loss at end of 10 epochs = 0.2836\n",
      "Validation loss at end of 10 epochs = 0.2883\n",
      "\n",
      "Epoch 11/50\n",
      "Loss at end of 11 epochs = 0.2444\n",
      "Validation loss at end of 11 epochs = 0.2830\n",
      "\n",
      "Epoch 12/50\n",
      "Loss at end of 12 epochs = 0.2104\n",
      "Validation loss at end of 12 epochs = 0.2423\n",
      "\n",
      "Epoch 13/50\n",
      "Loss at end of 13 epochs = 0.1871\n",
      "Validation loss at end of 13 epochs = 0.2355\n",
      "\n",
      "Epoch 14/50\n",
      "Loss at end of 14 epochs = 0.1671\n",
      "Validation loss at end of 14 epochs = 0.2318\n",
      "\n",
      "Epoch 15/50\n",
      "Loss at end of 15 epochs = 0.1508\n",
      "Validation loss at end of 15 epochs = 0.2372\n",
      "\n",
      "Epoch 16/50\n",
      "Loss at end of 16 epochs = 0.1289\n",
      "Validation loss at end of 16 epochs = 0.2265\n",
      "\n",
      "Epoch 17/50\n",
      "Loss at end of 17 epochs = 0.1199\n",
      "Validation loss at end of 17 epochs = 0.2176\n",
      "\n",
      "Epoch 18/50\n",
      "Loss at end of 18 epochs = 0.1048\n",
      "Validation loss at end of 18 epochs = 0.2187\n",
      "\n",
      "Epoch 19/50\n",
      "Loss at end of 19 epochs = 0.0937\n",
      "Validation loss at end of 19 epochs = 0.2131\n",
      "\n",
      "Epoch 20/50\n",
      "Loss at end of 20 epochs = 0.0879\n",
      "Validation loss at end of 20 epochs = 0.2055\n",
      "\n",
      "Epoch 21/50\n",
      "Loss at end of 21 epochs = 0.0764\n",
      "Validation loss at end of 21 epochs = 0.1988\n",
      "\n",
      "Epoch 22/50\n",
      "Loss at end of 22 epochs = 0.0726\n",
      "Validation loss at end of 22 epochs = 0.2050\n",
      "\n",
      "Epoch 23/50\n",
      "Loss at end of 23 epochs = 0.0626\n",
      "Validation loss at end of 23 epochs = 0.1912\n",
      "\n",
      "Epoch 24/50\n",
      "Loss at end of 24 epochs = 0.0585\n",
      "Validation loss at end of 24 epochs = 0.1933\n",
      "\n",
      "Epoch 25/50\n",
      "Loss at end of 25 epochs = 0.0533\n",
      "Validation loss at end of 25 epochs = 0.1897\n",
      "\n",
      "Epoch 26/50\n",
      "Loss at end of 26 epochs = 0.0476\n",
      "Validation loss at end of 26 epochs = 0.2009\n",
      "\n",
      "Epoch 27/50\n",
      "Loss at end of 27 epochs = 0.0452\n",
      "Validation loss at end of 27 epochs = 0.1903\n",
      "\n",
      "Epoch 28/50\n",
      "Loss at end of 28 epochs = 0.0393\n",
      "Validation loss at end of 28 epochs = 0.1912\n",
      "\n",
      "Epoch 29/50\n",
      "Loss at end of 29 epochs = 0.0360\n",
      "Validation loss at end of 29 epochs = 0.1826\n",
      "\n",
      "Epoch 30/50\n",
      "Loss at end of 30 epochs = 0.0377\n",
      "Validation loss at end of 30 epochs = 0.2048\n",
      "\n",
      "Epoch 31/50\n",
      "Loss at end of 31 epochs = 0.0337\n",
      "Validation loss at end of 31 epochs = 0.1839\n",
      "\n",
      "Epoch 32/50\n",
      "Loss at end of 32 epochs = 0.0327\n",
      "Validation loss at end of 32 epochs = 0.1815\n",
      "\n",
      "Epoch 33/50\n",
      "Loss at end of 33 epochs = 0.0344\n",
      "Validation loss at end of 33 epochs = 0.1881\n",
      "\n",
      "Epoch 34/50\n",
      "Loss at end of 34 epochs = 0.0289\n",
      "Validation loss at end of 34 epochs = 0.1826\n",
      "\n",
      "Epoch 35/50\n",
      "Loss at end of 35 epochs = 0.0260\n",
      "Validation loss at end of 35 epochs = 0.1829\n",
      "\n",
      "Epoch 36/50\n",
      "Loss at end of 36 epochs = 0.0225\n",
      "Validation loss at end of 36 epochs = 0.1892\n",
      "\n",
      "Epoch 37/50\n",
      "Loss at end of 37 epochs = 0.0222\n",
      "Validation loss at end of 37 epochs = 0.1892\n",
      "\n",
      "Epoch 38/50\n",
      "Loss at end of 38 epochs = 0.0203\n",
      "Validation loss at end of 38 epochs = 0.1827\n",
      "\n",
      "Epoch 39/50\n",
      "Loss at end of 39 epochs = 0.0186\n",
      "Validation loss at end of 39 epochs = 0.1828\n",
      "\n",
      "Epoch 40/50\n",
      "Loss at end of 40 epochs = 0.0180\n",
      "Validation loss at end of 40 epochs = 0.1805\n",
      "\n",
      "Epoch 41/50\n",
      "Loss at end of 41 epochs = 0.0174\n",
      "Validation loss at end of 41 epochs = 0.1851\n",
      "\n",
      "Epoch 42/50\n",
      "Loss at end of 42 epochs = 0.0162\n",
      "Validation loss at end of 42 epochs = 0.1931\n",
      "\n",
      "Epoch 43/50\n",
      "Loss at end of 43 epochs = 0.0152\n",
      "Validation loss at end of 43 epochs = 0.1904\n",
      "\n",
      "Epoch 44/50\n",
      "Loss at end of 44 epochs = 0.0145\n",
      "Validation loss at end of 44 epochs = 0.1833\n",
      "\n",
      "Epoch 45/50\n",
      "Loss at end of 45 epochs = 0.0145\n",
      "Validation loss at end of 45 epochs = 0.1790\n",
      "\n",
      "Epoch 46/50\n",
      "Loss at end of 46 epochs = 0.0126\n",
      "Validation loss at end of 46 epochs = 0.2161\n",
      "\n",
      "Epoch 47/50\n",
      "Loss at end of 47 epochs = 0.0154\n",
      "Validation loss at end of 47 epochs = 0.1917\n",
      "\n",
      "Epoch 48/50\n",
      "Loss at end of 48 epochs = 0.0107\n",
      "Validation loss at end of 48 epochs = 0.1819\n",
      "\n",
      "Epoch 49/50\n",
      "Loss at end of 49 epochs = 0.0102\n",
      "Validation loss at end of 49 epochs = 0.1966\n",
      "\n",
      "Epoch 50/50\n",
      "Loss at end of 50 epochs = 0.0093\n",
      "Validation loss at end of 50 epochs = 0.1934\n",
      "\n"
     ]
    }
   ],
   "source": [
    "model = model_fn()\n",
    "model.summary()\n",
    "epochs = 50\n",
    "optimizer = tf.keras.optimizers.Adam(learning_rate=5e-4)\n",
    "\n",
    "@tf.function()\n",
    "def train_fn(images, labels):\n",
    "    with tf.GradientTape() as Tape:\n",
    "        embeddings = model(images, training=True)\n",
    "        loss = triplet_loss(labels, embeddings)\n",
    "    gradients = Tape.gradient(loss, model.trainable_variables)\n",
    "    optimizer.apply_gradients(zip(gradients, model.trainable_variables))\n",
    "    return loss\n",
    "\n",
    "@tf.function()\n",
    "def validation_fn(images, labels):\n",
    "    embeddings = model(images, training=True)\n",
    "    loss = triplet_loss(labels, embeddings)\n",
    "    return loss\n",
    "\n",
    "batch_losses = []\n",
    "validation_losses = []\n",
    "for ep in range(epochs):\n",
    "    epoch_loss = []\n",
    "    epoch_loss_vaidation = []\n",
    "    print('Epoch {}/{}'.format(ep+1, epochs))\n",
    "    for step, batch in enumerate(train_dataset):\n",
    "        images = batch[0]\n",
    "        labels = batch[1]\n",
    "        loss = train_fn(images, labels)\n",
    "        loss_numpy = loss[0].numpy()\n",
    "        epoch_loss.append(loss)\n",
    "#         if step % 25 == 0:\n",
    "#             print('Loss at epoch {} step {} = {:.4f}'.format(ep+1, step + 1, loss_numpy))        \n",
    "    mean_loss = np.mean(epoch_loss)\n",
    "    batch_losses.append(mean_loss)\n",
    "    print('Loss at end of {} epochs = {:.4f}'.format(ep+1, mean_loss))\n",
    "    \n",
    "    for step, batch in enumerate(test_dataset):\n",
    "        images = batch[0]\n",
    "        labels = batch[1]\n",
    "        loss = validation_fn(images, labels)\n",
    "        loss_numpy = loss[0].numpy()\n",
    "        epoch_loss_vaidation.append(loss)\n",
    "    val_mean_loss = np.mean(epoch_loss_vaidation)\n",
    "    validation_losses.append(val_mean_loss)\n",
    "    print('Validation loss at end of {} epochs = {:.4f}\\n'.format(ep+1, val_mean_loss))"
   ]
  },
  {
   "cell_type": "code",
   "execution_count": 9,
   "metadata": {},
   "outputs": [
    {
     "data": {
      "text/plain": [
       "[<matplotlib.lines.Line2D at 0x7f2ebce13630>]"
      ]
     },
     "execution_count": 9,
     "metadata": {},
     "output_type": "execute_result"
    },
    {
     "data": {
      "image/png": "[encoded data removed]",
      "text/plain": [
       "<Figure size 432x288 with 1 Axes>"
      ]
     },
     "metadata": {
      "needs_background": "light"
     },
     "output_type": "display_data"
    }
   ],
   "source": [
    "plt.figure()\n",
    "plt.plot(batch_losses)\n",
    "plt.plot(validation_losses)"
   ]
  },
  {
   "cell_type": "code",
   "execution_count": 10,
   "metadata": {},
   "outputs": [],
   "source": [
    "model.save('model.h5')\n",
    "# model = tf.keras.models.load_model('model.h5')"
   ]
  },
  {
   "cell_type": "code",
   "execution_count": 11,
   "metadata": {},
   "outputs": [
    {
     "data": {
      "application/vnd.jupyter.widget-view+json": {
       "model_id": "4bafb953435f44f7b80e9ee28ecaa374",
       "version_major": 2,
       "version_minor": 0
      },
      "text/plain": [
       "HBox(children=(IntProgress(value=1, bar_style='info', max=1), HTML(value='')))"
      ]
     },
     "metadata": {},
     "output_type": "display_data"
    },
    {
     "name": "stdout",
     "output_type": "stream",
     "text": [
      "\n"
     ]
    }
   ],
   "source": [
    "embeddings = np.zeros(shape=[10000, 64])\n",
    "images = np.zeros(shape=[10000, 28, 28, 1])\n",
    "labels = np.zeros(shape=[10000])\n",
    "test_data = tfds.load('mnist', split=['test'])[0]\n",
    "for i, sample in tqdm_notebook(enumerate(test_data.take(10000))):\n",
    "    img = sample['image']\n",
    "    images[i] = img.numpy()\n",
    "    embedding = model(tf.cast(img[None, ...], dtype=tf.float32)/255.)[0]\n",
    "    embeddings[i] = embedding.numpy()\n",
    "    labels[i] = np.uint8(sample['label'].numpy())\n",
    "embeddings = tf.constant(embeddings, dtype=tf.float32)\n",
    "labels = tf.constant(labels, dtype=tf.float32)"
   ]
  },
  {
   "cell_type": "code",
   "execution_count": 12,
   "metadata": {},
   "outputs": [],
   "source": [
    "class Index:\n",
    "    def __init__(self, embeddings, labels):\n",
    "        self.embeddings = embeddings\n",
    "        self.dot_embeddings = tf.matmul(embeddings, embeddings, transpose_b=True)\n",
    "        self.squared_norms_embeddings = tf.expand_dims(tf.linalg.diag_part(self.dot_embeddings), 0)\n",
    "        self.labels = labels\n",
    "        \n",
    "    def get_labels(self, query_vector, top_k=None):\n",
    "        dot_query_vector = tf.matmul(query_vector, query_vector, transpose_b=True)\n",
    "        squared_norms_query_vector = tf.expand_dims(tf.linalg.diag_part(dot_query_vector), 0)\n",
    "        dot_product = tf.reduce_sum(self.embeddings * query_vector, axis=1)\n",
    "        distances = tf.maximum(self.squared_norms_embeddings + squared_norms_query_vector - 2 * dot_product, 0)\n",
    "        sorted_indices =  tf.argsort(distances)\n",
    "        if top_k:\n",
    "            sorted_indices = sorted_indices[..., :top_k]\n",
    "        nearest_labels =  tf.reshape(tf.gather(self.labels, sorted_indices), shape=[-1, 1])\n",
    "        nearest_distances = tf.reshape(tf.gather(distances[0], sorted_indices), shape=[-1, 1])\n",
    "        return nearest_distances[..., 0], nearest_labels[..., 0], sorted_indices[0]"
   ]
  },
  {
   "cell_type": "code",
   "execution_count": 13,
   "metadata": {},
   "outputs": [],
   "source": [
    "i = 569\n",
    "query_v = embeddings[i][None,...]\n",
    "query_img = images[i]\n",
    "query_label = labels[i]\n",
    "\n",
    "index = Index(embeddings, labels)\n",
    "distances_, labels_, indices_ = index.get_labels(query_v, top_k=10)"
   ]
  },
  {
   "cell_type": "code",
   "execution_count": 14,
   "metadata": {},
   "outputs": [
    {
     "data": {
      "image/png": "[encoded data removed]",
      "text/plain": [
       "<Figure size 360x360 with 1 Axes>"
      ]
     },
     "metadata": {
      "needs_background": "light"
     },
     "output_type": "display_data"
    },
    {
     "data": {
      "image/png": "[encoded data removed]",
      "text/plain": [
       "<Figure size 1080x576 with 10 Axes>"
      ]
     },
     "metadata": {
      "needs_background": "light"
     },
     "output_type": "display_data"
    }
   ],
   "source": [
    "plt.figure(figsize=(5, 5))\n",
    "plt.title('Query Image')\n",
    "plt.axis('off')\n",
    "plt.imshow(query_img[..., 0])\n",
    "plt.subplots(2, 5, figsize=(15, 8))\n",
    "for i in range(10):\n",
    "    plt.subplot(2, 5, i+1)\n",
    "    plt.title(labels_[i].numpy())\n",
    "    plt.axis('off')\n",
    "    plt.imshow(images[indices_[i]][..., 0])"
   ]
  },
  {
   "cell_type": "code",
   "execution_count": null,
   "metadata": {},
   "outputs": [],
   "source": []
  }
 ],
 "metadata": {
  "kernelspec": {
   "display_name": "Python 3",
   "language": "python",
   "name": "python3"
  },
  "language_info": {
   "codemirror_mode": {
    "name": "ipython",
    "version": 3
   },
   "file_extension": ".py",
   "mimetype": "text/x-python",
   "name": "python",
   "nbconvert_exporter": "python",
   "pygments_lexer": "ipython3",
   "version": "3.6.7"
  }
 },
 "nbformat": 4,
 "nbformat_minor": 2
}
